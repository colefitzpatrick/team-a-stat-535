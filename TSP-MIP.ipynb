{
 "cells": [
  {
   "cell_type": "code",
   "execution_count": 1,
   "metadata": {},
   "outputs": [],
   "source": [
    "from mip import Model, BINARY, minimize, xsum"
   ]
  },
  {
   "cell_type": "markdown",
   "metadata": {},
   "source": [
    "#### Objective: Minimize distance travelled\n",
    "#### Contraints: Must travel to and from each city only once\n",
    "\n",
    "|        | City 1 | City 2 | City 3 | City 4 |\n",
    "| ------ | ------ | ------ | ------ | ------ |\n",
    "| City 1 |   0    |   10   |   15   |   20   |\n",
    "| City 2 |   10   |   0    |   35   |   25   |\n",
    "| City 3 |   15   |   35   |   0    |   30   |\n",
    "| City 4 |   20   |   25   |   30   |   0    |\n",
    "\n",
    "We have a table containing the distances between each city. The table is symmetric since you can travel to each city along the same path in either direction. Think of distance travelled overall as a cost. This translates well to optimization as we will try to minimize this cost. Since we only want to visit each city once, we want to enter and leave each city only once, ending up in the same final spot. "
   ]
  },
  {
   "cell_type": "markdown",
   "metadata": {},
   "source": [
    "##### Cost\n",
    "$c_{ij}$: Distance from city $\\bf{i}$ to city $\\bf{j}$\n",
    "\n",
    "$c_{ij} = c_{ji}$: Distance is symmetric\n",
    "\n",
    "\n",
    "##### Route variable\n",
    "$x_{ij} = 1$: If the salesperson travels from city $\\bf{i}$ to city $\\bf{j}$\n",
    "\n",
    "$x_{ij} = 0$: Otherwise (i,j = 1,...,N and i $\\neq$ j)\n",
    "\n",
    "##### Auxiliary variable\n",
    "$u_{i}$: Eliminates subtours (i = 1,...,N)\n",
    "\n",
    "##### Minimize cost\n",
    "$\\sum_{i=1}^{N} \\sum_{j=1}^{N} c_{ij}x_{ij}$\n",
    "\n",
    "##### Subject to constraints\n",
    "$\\sum_{i=1}^{N} x_{ij} = 1, j = 1,...,N$\n",
    "\n",
    "$\\sum_{j=1}^{N} x_{ij} = 1, i = 1,...,N$\n",
    "\n",
    "$x_{ij} + x_{ji} \\leq 1; i \\neq j; i,j = 1,...,N$\n",
    "\n",
    "$x_{ij} \\in \\{0, 1\\}; i,j = 1,...,N$"
   ]
  },
  {
   "cell_type": "code",
   "execution_count": 2,
   "metadata": {},
   "outputs": [
    {
     "name": "stdout",
     "output_type": "stream",
     "text": [
      "Route found with total distance 80.0. Order: City 1\n",
      "to City 3\n",
      "to City 4\n",
      "to City 2\n",
      "to City 1\n"
     ]
    }
   ],
   "source": [
    "city = ['City 1', 'City 2', 'City 3', 'City 4']\n",
    "\n",
    "#create an arbitrarily large cost for staying within same city\n",
    "M = 1000\n",
    "\n",
    "#cost matrix\n",
    "c = [[M, 10, 15, 20],\n",
    "     [10, M, 35, 25],\n",
    "     [15, 35, M, 30],\n",
    "     [20, 25, 30, M]]\n",
    "\n",
    "N = len(c)\n",
    "node = set((range(0,N)))\n",
    "\n",
    "TSP = Model(sense = 'Minimize', solver_name='CBC')\n",
    "\n",
    "x = [[TSP.add_var(var_type = BINARY, lb = 0.0, ub = 1.0) for j in node] for i in node]\n",
    "\n",
    "#Optimization\n",
    "#minimize cost\n",
    "TSP.objective = minimize(xsum(c[i][j]*x[i][j] for i in node for j in node))\n",
    "\n",
    "#Constraints\n",
    "#leave only once\n",
    "for i in node:\n",
    "    TSP.add_constr( xsum(x[i][j] for j in node) == 1 )\n",
    "#enter only once\n",
    "for j in node:\n",
    "    TSP.add_constr( xsum(x[i][j] for i in node) == 1 )\n",
    "#no subtours\n",
    "for i in node:\n",
    "    for j in node:\n",
    "        if i != j:\n",
    "            TSP.add_constr( x[i][j] + x[j][i] <= 1)\n",
    "\n",
    "TSP.optimize()\n",
    "\n",
    "if TSP.num_solutions > 0:\n",
    "    #print distance and starting city\n",
    "    print('Route found with total distance {}. Order: {}'.format(TSP.objective_value, city[0]))\n",
    "    #print city order\n",
    "    cNum = 0\n",
    "    while True:\n",
    "        cNum = [i for i in node if x[cNum][i].x > 0][0]\n",
    "        print('to {}'.format(city[cNum]))\n",
    "        if cNum == 0:\n",
    "            break\n",
    "if TSP.num_solutions == 0:\n",
    "    print('No solutions were found.')"
   ]
  },
  {
   "cell_type": "code",
   "execution_count": null,
   "metadata": {},
   "outputs": [],
   "source": []
  }
 ],
 "metadata": {
  "kernelspec": {
   "display_name": "Python 3",
   "language": "python",
   "name": "python3"
  },
  "language_info": {
   "codemirror_mode": {
    "name": "ipython",
    "version": 3
   },
   "file_extension": ".py",
   "mimetype": "text/x-python",
   "name": "python",
   "nbconvert_exporter": "python",
   "pygments_lexer": "ipython3",
   "version": "3.7.3"
  }
 },
 "nbformat": 4,
 "nbformat_minor": 4
}
